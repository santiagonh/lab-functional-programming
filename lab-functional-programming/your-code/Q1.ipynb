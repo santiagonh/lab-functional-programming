{
 "cells": [
  {
   "cell_type": "markdown",
   "metadata": {},
   "source": [
    "In the cell below, create a Python function that wraps your previous solution for the Bag of Words lab.\n",
    "\n",
    "Requirements:\n",
    "\n",
    "1. Your function should accept the following parameters:\n",
    "    * `docs` [REQUIRED] - array of document paths.\n",
    "    * `stop_words` [OPTIONAL] - array of stop words. The default value is an empty array.\n",
    "\n",
    "1. Your function should return a Python object that contains the following:\n",
    "    * `bag_of_words` - array of strings of normalized unique words in the corpus.\n",
    "    * `term_freq` - array of the term-frequency vectors."
   ]
  },
  {
   "cell_type": "code",
   "execution_count": 3,
   "metadata": {},
   "outputs": [],
   "source": [
    "#!pip install sklearn"
   ]
  },
  {
   "cell_type": "code",
   "execution_count": 61,
   "metadata": {},
   "outputs": [
    {
     "name": "stdout",
     "output_type": "stream",
     "text": [
      "/usr/local/Cellar/jupyterlab/3.1.14/libexec/bin/python3.9\n"
     ]
    }
   ],
   "source": [
    "##import sys\n",
    "##print(sys.executable) "
   ]
  },
  {
   "cell_type": "code",
   "execution_count": 179,
   "metadata": {},
   "outputs": [],
   "source": [
    "import sklearn as sklearn"
   ]
  },
  {
   "cell_type": "code",
   "execution_count": 180,
   "metadata": {},
   "outputs": [],
   "source": [
    "# Import required libraries\n",
    "import pandas as pd\n",
    "import numpy as np\n",
    "import sklearn as sklearn\n",
    "\n",
    "# Define function\n",
    "def get_bow_from_docs(docs, stop_words=[]):\n",
    "    \n",
    "    # In the function, first define the variables you will use such as `corpus`, `bag_of_words`, and `term_freq`.\n",
    "    corpus=[]\n",
    "    bag_of_words=[]\n",
    "    term_freq=[]\n",
    "    \n",
    "    \"\"\"\n",
    "    Loop `docs` and read the content of each doc into a string in `corpus`.\n",
    "    Remember to convert the doc content to lowercases and remove punctuation.\n",
    "    \"\"\"\n",
    "\n",
    "    for doc in docs:\n",
    "        f=open(doc)\n",
    "        f=f.read()\n",
    "        f=f.lower().replace(\".\\n\",\"\")\n",
    "        corpus.append(f)\n",
    "   \n",
    "    for frases in range(len(corpus)):     \n",
    "        corpus_split=corpus[frases].split(\" \")\n",
    "        for words in range(len(corpus_split)):\n",
    "            if corpus_split[words] not in bag_of_words:\n",
    "                if corpus_split[words] not in stop_words:\n",
    "                    bag_of_words.append(corpus_split[words])\n",
    "    \n",
    "    \n",
    "    \n",
    "    \"\"\"\n",
    "    Loop `corpus`. Append the terms in each doc into the `bag_of_words` array. The terms in `bag_of_words` \n",
    "    should be unique which means before adding each term you need to check if it's already added to the array.\n",
    "    In addition, check if each term is in the `stop_words` array. Only append the term to `bag_of_words`\n",
    "    if it is not a stop word.\n",
    "    \"\"\"\n",
    "\n",
    "    \n",
    "    \n",
    "    \n",
    "    \"\"\"\n",
    "    Loop `corpus` again. For each doc string, count the number of occurrences of each term in `bag_of_words`. \n",
    "    Create an array for each doc's term frequency and append it to `term_freq`.\n",
    "    \"\"\"\n",
    "    ##no me salía la siguiente parte del código así que le tuve que copiar a Nay D:\n",
    "    for frase in corpus:\n",
    "        words=frase.split()\n",
    "        lista=[]\n",
    "        for word in bag_of_words:\n",
    "            if word in words:\n",
    "                lista+=\"1\"\n",
    "            else:\n",
    "                lista+=\"0\"\n",
    "        term_freq.append(lista)\n",
    "            \n",
    "    \n",
    "    # Now return your output as an object\n",
    "    return {\n",
    "        \"bag_of_words\": bag_of_words,\n",
    "        \"term_freq\": term_freq\n",
    "    }\n",
    "    print(corpus_split) "
   ]
  },
  {
   "cell_type": "code",
   "execution_count": 181,
   "metadata": {},
   "outputs": [
    {
     "data": {
      "text/plain": [
       "['ironhack', 'is', 'cool', 'i', 'love', 'am', 'a', 'student', 'at']"
      ]
     },
     "execution_count": 181,
     "metadata": {},
     "output_type": "execute_result"
    }
   ],
   "source": [
    "bag_of_words"
   ]
  },
  {
   "cell_type": "markdown",
   "metadata": {},
   "source": [
    "Test your function without stop words. You should see the output like below:\n",
    "\n",
    "```{'bag_of_words': ['ironhack', 'is', 'cool', 'i', 'love', 'am', 'a', 'student', 'at'], 'term_freq': [[1, 1, 1, 0, 0, 0, 0, 0, 0], [1, 0, 0, 1, 1, 0, 0, 0, 0], [1, 0, 0, 1, 0, 1, 1, 1, 1]]}```"
   ]
  },
  {
   "cell_type": "code",
   "execution_count": 182,
   "metadata": {},
   "outputs": [
    {
     "name": "stdout",
     "output_type": "stream",
     "text": [
      "{'bag_of_words': ['ironhack', 'is', 'cool', 'i', 'love', 'am', 'a', 'student', 'at'], 'term_freq': [['1', '1', '1', '0', '0', '0', '0', '0', '0'], ['1', '0', '0', '1', '1', '0', '0', '0', '0'], ['1', '0', '0', '1', '0', '1', '1', '1', '1']]}\n"
     ]
    }
   ],
   "source": [
    "# Define doc paths array\n",
    "docs = [\"doc1.txt\", \"doc2.txt\", \"doc3.txt\"]\n",
    "\n",
    "# Obtain BoW from your function\n",
    "bow = get_bow_from_docs(docs)\n",
    "\n",
    "# Print BoW\n",
    "print(bow)"
   ]
  },
  {
   "cell_type": "code",
   "execution_count": 183,
   "metadata": {},
   "outputs": [
    {
     "name": "stdout",
     "output_type": "stream",
     "text": [
      "{'bag_of_words': ['ironhack', 'is', 'cool', 'i', 'love', 'am', 'a', 'student', 'at'], 'term_freq': [['1', '1', '1', '0', '0', '0', '0', '0', '0'], ['1', '0', '0', '1', '1', '0', '0', '0', '0'], ['1', '0', '0', '1', '0', '1', '1', '1', '1']]}\n"
     ]
    }
   ],
   "source": [
    "print(bow)"
   ]
  },
  {
   "cell_type": "markdown",
   "metadata": {},
   "source": [
    "If your attempt above is successful, nice work done!\n",
    "\n",
    "Now test your function again with the stop words. In the previous lab we defined the stop words in a large array. In this lab, we'll import the stop words from Scikit-Learn."
   ]
  },
  {
   "cell_type": "code",
   "execution_count": 184,
   "metadata": {},
   "outputs": [
    {
     "name": "stdout",
     "output_type": "stream",
     "text": [
      "frozenset({'whatever', 'found', 'for', 'over', 'me', 'because', 'itself', 'might', 'former', 'well', 'therein', 'others', 'herein', 'latter', 'that', 'move', 'here', 'twelve', 'often', 'part', 'neither', 'many', 'latterly', 'serious', 'still', 'with', 'of', 'beforehand', 'eight', 'our', 'than', 'third', 'therefore', 'noone', 'otherwise', 'rather', 'whereupon', 'other', 'interest', 'always', 'describe', 'first', 'whose', 'whence', 'mine', 'about', 'being', 'hence', 'namely', 'must', 'fire', 'am', 'wherever', 'made', 'after', 'less', 'by', 'hereafter', 'thereafter', 'whenever', 'ours', 'co', 'most', 'will', 'give', 'us', 'their', 'if', 'its', 'again', 'somewhere', 'all', 'though', 'please', 'above', 'no', 'toward', 'everything', 'cant', 'between', 'everywhere', 'under', 'indeed', 'these', 'do', 'ie', 'myself', 'from', 'each', 'some', 'ourselves', 'themselves', 'it', 'thereby', 'at', 'show', 'de', 'anyone', 'every', 'nothing', 'a', 'i', 'full', 'amoungst', 'upon', 'her', 'he', 'sometime', 'fifty', 'become', 'empty', 'formerly', 'inc', 'hereupon', 'may', 'into', 'except', 'several', 'not', 'whither', 'forty', 'due', 'so', 'an', 'my', 'are', 'whoever', 'same', 'became', 'somehow', 'up', 'onto', 'top', 'both', 'very', 'mill', 'been', 'throughout', 'already', 'keep', 'you', 'within', 'one', 'once', 'someone', 'few', 'is', 'behind', 'four', 'they', 'but', 'we', 'get', 'him', 'seems', 'mostly', 'detail', 'although', 'find', 'five', 'anyway', 'elsewhere', 'etc', 'himself', 'wherein', 'around', 'together', 'against', 'per', 'back', 'two', 'she', 'down', 'where', 'without', 're', 'anything', 'hers', 'becomes', 'more', 'thick', 'none', 'further', 'system', 'fill', 'three', 'however', 'the', 'who', 'along', 'off', 'meanwhile', 'whom', 'eleven', 'amount', 'as', 'has', 'yet', 'bill', 'whole', 'ten', 'sincere', 'could', 'something', 'either', 'only', 'to', 'yours', 'last', 'why', 'them', 'fifteen', 'whether', 'cry', 'go', 'thru', 'yourself', 'such', 'whereby', 'sometimes', 'what', 'those', 'cannot', 'then', 'while', 'couldnt', 'nine', 'never', 'herself', 'your', 'afterwards', 'enough', 'too', 'was', 'another', 'among', 'seeming', 'own', 'twenty', 'via', 'across', 'take', 'hereby', 'thence', 'whereas', 'beside', 'out', 'perhaps', 'thus', 'even', 'how', 'had', 'or', 'which', 'nobody', 'everyone', 'six', 'in', 'until', 'thereupon', 'on', 'side', 'see', 'whereafter', 'were', 'this', 'alone', 'nowhere', 'call', 'anyhow', 'have', 'through', 'should', 'during', 'anywhere', 'hasnt', 'bottom', 'un', 'sixty', 'any', 'would', 'be', 'con', 'besides', 'nevertheless', 'almost', 'put', 'and', 'seemed', 'there', 'done', 'when', 'thin', 'since', 'below', 'ltd', 'name', 'before', 'ever', 'yourselves', 'front', 'becoming', 'least', 'beyond', 'his', 'seem', 'can', 'now', 'else', 'towards', 'much', 'amongst', 'next', 'eg', 'nor', 'moreover', 'also', 'hundred'})\n"
     ]
    }
   ],
   "source": [
    "from sklearn.feature_extraction import _stop_words\n",
    "print(_stop_words.ENGLISH_STOP_WORDS)"
   ]
  },
  {
   "cell_type": "markdown",
   "metadata": {},
   "source": [
    "You should have seen a large list of words that looks like:\n",
    "\n",
    "```frozenset({'across', 'mine', 'cannot', ...})```\n",
    "\n",
    "`frozenset` is a type of Python object that is immutable. In this lab you can use it just like an array without conversion."
   ]
  },
  {
   "cell_type": "markdown",
   "metadata": {},
   "source": [
    "Next, test your function with supplying `stop_words.ENGLISH_STOP_WORDS` as the second parameter."
   ]
  },
  {
   "cell_type": "code",
   "execution_count": 188,
   "metadata": {
    "scrolled": false
   },
   "outputs": [
    {
     "name": "stdout",
     "output_type": "stream",
     "text": [
      "{'bag_of_words': ['ironhack', 'cool', 'love', 'student'], 'term_freq': [['1', '1', '0', '0'], ['1', '0', '1', '0'], ['1', '0', '0', '1']]}\n"
     ]
    }
   ],
   "source": [
    "bow = get_bow_from_docs(docs, _stop_words.ENGLISH_STOP_WORDS)\n",
    "\n",
    "print(bow)"
   ]
  },
  {
   "cell_type": "markdown",
   "metadata": {},
   "source": [
    "You should have seen:\n",
    "\n",
    "```{'bag_of_words': ['ironhack', 'cool', 'love', 'student'], 'term_freq': [[1, 1, 0, 0], [1, 0, 1, 0], [1, 0, 0, 1]]}```"
   ]
  },
  {
   "cell_type": "code",
   "execution_count": null,
   "metadata": {},
   "outputs": [],
   "source": []
  }
 ],
 "metadata": {
  "kernelspec": {
   "display_name": "Python 3 (ipykernel)",
   "language": "python",
   "name": "python3"
  },
  "language_info": {
   "codemirror_mode": {
    "name": "ipython",
    "version": 3
   },
   "file_extension": ".py",
   "mimetype": "text/x-python",
   "name": "python",
   "nbconvert_exporter": "python",
   "pygments_lexer": "ipython3",
   "version": "3.9.7"
  }
 },
 "nbformat": 4,
 "nbformat_minor": 2
}
